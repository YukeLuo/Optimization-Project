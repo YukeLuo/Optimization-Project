{
 "cells": [
  {
   "cell_type": "code",
   "execution_count": 1,
   "metadata": {},
   "outputs": [
    {
     "name": "stdout",
     "output_type": "stream",
     "text": [
      "Academic license - for non-commercial use only\n"
     ]
    }
   ],
   "source": [
    "# Yuke Luo\n",
    "from gurobipy import *\n",
    "import matplotlib.pyplot as plt \n",
    "m = Model('final')\n",
    "c = range(4)\n",
    "m.remove(m.getVars())\n",
    "m.remove(m.getConstrs())\n",
    "\n",
    "store = [[102.6070194,363.4673676,570.9344692,867.4985554],\n",
    "         [981.5160308,452.6908275,806.0617236,340.584254],\n",
    "         [889.4214567,563.9138436,199.2023744,113.3047579],\n",
    "         [720.9953667,155.4318437,986.1157401,312.6843448]]\n",
    "dc = [[102.6070194,981.5160308,889.4214567,720.9953667],\n",
    "     [363.4673676,452.6908275,563.9138436,155.4318437],\n",
    "     [570.9344692,806.0617236,199.2023744,986.1157401],\n",
    "     [867.4985554,340.584254,113.3047579,312.6843448]]\n",
    "requirements = [208,54,66,282]\n",
    "capacity = [12000,12000,12000,12000]\n",
    "# Decision Variables\n",
    "binary=[[m.addVar(vtype=GRB.BINARY, name='binary'+str(i)+'_'+str(j)) for j in range(len(c))]for i in range(len(c))]\n",
    "demand= [ m.addVar(vtype=GRB.INTEGER, name= 'demand' + str(i)) for i in range(len(c))]\n",
    "m.update()"
   ]
  },
  {
   "cell_type": "code",
   "execution_count": 3,
   "metadata": {
    "scrolled": true
   },
   "outputs": [],
   "source": [
    "# Objective Funcion\n",
    "fixed_price = 200\n",
    "unit_price = 0.75\n",
    "going = [[0,0,0,0],[0,0,0,0],[0,0,0,0],[0,0,0,0]]\n",
    "for i in range(len(c)):\n",
    "    for j in range(len(c)):\n",
    "        going[i][j]=binary[i][j]*requirements[i]\n",
    "\n",
    "var_cost = 0\n",
    "fixed_cost=fixed_price*sum(demand)\n",
    "for i in range(len(c)):\n",
    "    for j in range(len(c)):\n",
    "        var_cost += store[i][j]*binary[i][j]*going[i][j]\n",
    "        m.setObjective(fixed_cost+unit_price*var_cost,GRB.MINIMIZE) \n",
    "m.update()"
   ]
  },
  {
   "cell_type": "code",
   "execution_count": 4,
   "metadata": {},
   "outputs": [
    {
     "name": "stdout",
     "output_type": "stream",
     "text": [
      "Optimize a model with 12 rows, 20 columns and 24 nonzeros\n",
      "Model has 16 quadratic objective terms\n",
      "Variable types: 0 continuous, 20 integer (16 binary)\n",
      "Coefficient statistics:\n",
      "  Matrix range     [1e+00, 1e+00]\n",
      "  Objective range  [2e+02, 2e+02]\n",
      "  QObjective range [1e+04, 4e+05]\n",
      "  Bounds range     [1e+00, 1e+00]\n",
      "  RHS range        [1e+00, 1e+04]\n",
      "Found heuristic solution: objective 374274.97644\n",
      "Presolve removed 12 rows and 20 columns\n",
      "Presolve time: 0.00s\n",
      "Presolve: All rows and columns removed\n",
      "\n",
      "Explored 0 nodes (0 simplex iterations) in 0.01 seconds\n",
      "Thread count was 1 (of 8 available processors)\n",
      "\n",
      "Solution count 2: 190283 374275 \n",
      "\n",
      "Optimal solution found (tolerance 1.00e-04)\n",
      "Best objective 1.902827777720e+05, best bound 1.902827777720e+05, gap 0.0000%\n"
     ]
    }
   ],
   "source": [
    "#Constrains\n",
    "sumlist = []\n",
    "for i in range(len(c)):\n",
    "    sumlist.append(sum(binary[i]))\n",
    "    m.addConstr(sumlist[i],GRB.EQUAL, 1)\n",
    "    m.addConstr(demand[i],GRB.GREATER_EQUAL, requirements[i])\n",
    "    m.addConstr(demand[i],GRB.LESS_EQUAL, capacity[i])\n",
    "m.update()\n",
    "m.optimize()"
   ]
  },
  {
   "cell_type": "code",
   "execution_count": null,
   "metadata": {},
   "outputs": [],
   "source": []
  },
  {
   "cell_type": "code",
   "execution_count": null,
   "metadata": {},
   "outputs": [],
   "source": []
  }
 ],
 "metadata": {
  "kernelspec": {
   "display_name": "Python 3",
   "language": "python",
   "name": "python3"
  },
  "language_info": {
   "codemirror_mode": {
    "name": "ipython",
    "version": 3
   },
   "file_extension": ".py",
   "mimetype": "text/x-python",
   "name": "python",
   "nbconvert_exporter": "python",
   "pygments_lexer": "ipython3",
   "version": "3.7.3"
  }
 },
 "nbformat": 4,
 "nbformat_minor": 2
}
