{
 "cells": [
  {
   "cell_type": "code",
   "execution_count": 10,
   "metadata": {},
   "outputs": [],
   "source": [
    "# Yuke Luo\n",
    "from gurobipy import *\n",
    "import mysql.connector\n",
    "m = Model(\"Final model\") #create model\n",
    "m.remove(m.getVars())\n",
    "m.remove(m.getConstrs())"
   ]
  },
  {
   "cell_type": "code",
   "execution_count": 11,
   "metadata": {},
   "outputs": [],
   "source": [
    "db = mysql.connector.connect(user='root',password='root',database='final',auth_plugin='mysql_native_password')"
   ]
  },
  {
   "cell_type": "code",
   "execution_count": 12,
   "metadata": {},
   "outputs": [],
   "source": [
    "cur = db.cursor(buffered=True)"
   ]
  },
  {
   "cell_type": "code",
   "execution_count": 13,
   "metadata": {},
   "outputs": [],
   "source": [
    "dcquery = \"SELECT dc_id, capacity FROM dc\"\n",
    "storequery = \"SELECT store_id, requirements FROM store\"\n",
    "mileagequery = \"SELECT dc_id,store_id,mileage FROM mileage\""
   ]
  },
  {
   "cell_type": "code",
   "execution_count": 14,
   "metadata": {},
   "outputs": [],
   "source": [
    "cur.execute(dcquery)\n",
    "records = cur.fetchall()\n",
    "dcinfo = []\n",
    "for row in records:\n",
    "    dcinfo.append(row)"
   ]
  },
  {
   "cell_type": "code",
   "execution_count": 15,
   "metadata": {},
   "outputs": [],
   "source": [
    "cur.execute(storequery)\n",
    "records = cur.fetchall()\n",
    "storeinfo = []\n",
    "for row in records:\n",
    "    storeinfo.append(row)"
   ]
  },
  {
   "cell_type": "code",
   "execution_count": 16,
   "metadata": {},
   "outputs": [],
   "source": [
    "cur.execute(mileagequery)\n",
    "records = cur.fetchall()\n",
    "mileageinfo = []\n",
    "for row in records:\n",
    "    mileageinfo.append(row)"
   ]
  },
  {
   "cell_type": "code",
   "execution_count": 17,
   "metadata": {},
   "outputs": [],
   "source": [
    "num_stores = range(1100)\n",
    "num_dcs = range(10)\n",
    "mileages =[]\n",
    "for i in range(0,11000,1100):\n",
    "    mileages.append(mileageinfo[i:i+1100])\n",
    "store = []\n",
    "for i in range(len(num_stores)):\n",
    "    mile = []\n",
    "    for j in range(len(num_dcs)): \n",
    "        if storeinfo[i][0] == mileages[j][i][1]:\n",
    "            mile.append(mileages[j][i][2])\n",
    "    store.append(mile)\n",
    "\n",
    "\n",
    "# Decision Variables\n",
    "binary=[[m.addVar(vtype=GRB.BINARY, name='binary'+str(i)+'_'+str(j)) for j in range(len(num_dcs))]for i in range(len(num_stores))]\n",
    "demand= [ m.addVar(vtype=GRB.INTEGER, name= 'demand' + str(i)) for i in range(len(num_stores))]\n",
    "m.update()"
   ]
  },
  {
   "cell_type": "code",
   "execution_count": 18,
   "metadata": {},
   "outputs": [],
   "source": [
    "# Objective Funcion\n",
    "fixed_price = 200\n",
    "unit_price = 0.75\n",
    "var_amount = 0\n",
    "fixed_cost=fixed_price*sum(demand)\n",
    "going = []\n",
    "for i in range(len(num_stores)):\n",
    "    go = []\n",
    "    for j in range(len(num_dcs)):\n",
    "        go.append(binary[i][j]*storeinfo[i][1])\n",
    "    going.append(go)\n",
    "for i in range(len(num_stores)):\n",
    "    for j in range(len(num_dcs)):\n",
    "        var_amount += store[i][j]*binary[i][j]*going[i][j]\n",
    "m.setObjective(fixed_cost+unit_price*var_amount,GRB.MINIMIZE) \n",
    "m.update()"
   ]
  },
  {
   "cell_type": "code",
   "execution_count": 19,
   "metadata": {
    "scrolled": false
   },
   "outputs": [
    {
     "name": "stdout",
     "output_type": "stream",
     "text": [
      "Optimize a model with 3300 rows, 12100 columns and 13200 nonzeros\n",
      "Model has 11000 quadratic objective terms\n",
      "Variable types: 0 continuous, 12100 integer (11000 binary)\n",
      "Coefficient statistics:\n",
      "  Matrix range     [1e+00, 1e+00]\n",
      "  Objective range  [2e+02, 2e+02]\n",
      "  QObjective range [2e+02, 4e+05]\n",
      "  Bounds range     [1e+00, 1e+00]\n",
      "  RHS range        [1e+00, 1e+04]\n",
      "Found heuristic solution: objective 6.244963e+07\n",
      "Presolve removed 3300 rows and 12100 columns\n",
      "Presolve time: 0.01s\n",
      "Presolve: All rows and columns removed\n",
      "\n",
      "Explored 0 nodes (0 simplex iterations) in 0.02 seconds\n",
      "Thread count was 1 (of 8 available processors)\n",
      "\n",
      "Solution count 2: 3.00448e+07 6.24496e+07 \n",
      "\n",
      "Optimal solution found (tolerance 1.00e-04)\n",
      "Best objective 3.004475777521e+07, best bound 3.004475777521e+07, gap 0.0000%\n"
     ]
    }
   ],
   "source": [
    "#Constrains\n",
    "sumlist = []\n",
    "for i in range(len(num_stores)):\n",
    "    sumlist.append(sum(binary[i]))\n",
    "    m.addConstr(sumlist[i],GRB.EQUAL, 1)\n",
    "    m.addConstr(demand[i],GRB.GREATER_EQUAL, storeinfo[i][1])\n",
    "    m.addConstr(demand[i],GRB.LESS_EQUAL, 12000)\n",
    "m.update()\n",
    "m.optimize()"
   ]
  },
  {
   "cell_type": "code",
   "execution_count": 28,
   "metadata": {},
   "outputs": [],
   "source": [
    "cur.execute('delete from results')\n",
    "for i in range(len(m.getVars())):\n",
    "    if m.getVars()[i].x == 1.0:\n",
    "        cur.execute(cur.execute(\"insert into results(dc_id,store_id) values (%s,%s)\",(re.findall(r'\\d+', str(m.getVars()[i]))[0],re.findall(r'\\d+', str(m.getVars()[i]))[1])))\n",
    "        db.commit()"
   ]
  }
 ],
 "metadata": {
  "kernelspec": {
   "display_name": "Python 3",
   "language": "python",
   "name": "python3"
  },
  "language_info": {
   "codemirror_mode": {
    "name": "ipython",
    "version": 3
   },
   "file_extension": ".py",
   "mimetype": "text/x-python",
   "name": "python",
   "nbconvert_exporter": "python",
   "pygments_lexer": "ipython3",
   "version": "3.7.3"
  }
 },
 "nbformat": 4,
 "nbformat_minor": 2
}
